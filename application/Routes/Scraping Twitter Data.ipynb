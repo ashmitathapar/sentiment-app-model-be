{
 "cells": [
  {
   "cell_type": "code",
   "execution_count": 1,
   "id": "ed3cf2a1",
   "metadata": {},
   "outputs": [],
   "source": [
    "import json\n",
    "import csv\n",
    "import tweepy\n",
    "import re"
   ]
  },
  {
   "cell_type": "code",
   "execution_count": 2,
   "id": "20af4484",
   "metadata": {},
   "outputs": [],
   "source": [
    "\"\"\"\n",
    "INPUTS:\n",
    "    consumer_key, consumer_secret, access_token, access_token_secret: codes \n",
    "    telling twitter that we are authorized to access this data\n",
    "    hashtag_phrase: the combination of hashtags to search for\n",
    "OUTPUTS:\n",
    "    none, simply save the tweet info to a spreadsheet\n",
    "\"\"\"\n",
    "def search_for_hashtags(consumer_key, consumer_secret, access_token, access_token_secret, hashtag_phrase):\n",
    "    \n",
    "    #create authentication for accessing Twitter\n",
    "    auth = tweepy.OAuthHandler(consumer_key, consumer_secret)\n",
    "    auth.set_access_token(access_token, access_token_secret)\n",
    "\n",
    "    #initialize Tweepy API\n",
    "    api = tweepy.API(auth)\n",
    "    \n",
    "    #get the name of the spreadsheet we will write to\n",
    "    fname = '_'.join(re.findall(r\"#(\\w+)\", hashtag_phrase))\n",
    "\n",
    "    #open the spreadsheet we will write to\n",
    "    with open('%s.csv' % (fname), 'w') as file:\n",
    "\n",
    "        w = csv.writer(file)\n",
    "\n",
    "        #write header row to spreadsheet\n",
    "        #w.writerow(['timestamp', 'tweet_text', 'username', 'all_hashtags', 'followers_count'])\n",
    "\n",
    "        #for each tweet matching our hashtags, write relevant info to the spreadsheet\n",
    "        for tweet in tweepy.Cursor(api.search, q=hashtag_phrase+' -filter:retweets', \\\n",
    "                                   lang=\"en\", tweet_mode='extended').items(100):\n",
    "            w.writerow([tweet.created_at, tweet.full_text.replace('\\n',' ').encode('utf-8'), tweet.user.screen_name.encode('utf-8'), [e['text'] for e in tweet._json['entities']['hashtags']], tweet.user.followers_count])"
   ]
  },
  {
   "cell_type": "code",
   "execution_count": 3,
   "id": "359c1b12",
   "metadata": {},
   "outputs": [],
   "source": [
    "consumer_key = 'qpgZ3AAJakkxcqR8OmUryEFWs'\n",
    "consumer_secret = 'ESQVycJOKhseMBNkgFwe3aBzoExTqNpSx5yGDgcsAziaxUGGgc'\n",
    "access_token = '1422948137216270342-HrdzI35GnO4BY9d8LT6GBRxEu15Pir'\n",
    "access_token_secret = 'adR4d2HGalzfc4eggkRRGXwNnlPy6vxXaXOdPQ50EwyuS'\n",
    "    \n",
    "hashtag_phrase = '#iphonese'\n",
    "\n",
    "if __name__ == '__main__':\n",
    "    search_for_hashtags(consumer_key, consumer_secret, access_token, access_token_secret, hashtag_phrase)"
   ]
  },
  {
   "cell_type": "code",
   "execution_count": null,
   "id": "66b2a252",
   "metadata": {},
   "outputs": [],
   "source": []
  }
 ],
 "metadata": {
  "kernelspec": {
   "display_name": "Python 3",
   "language": "python",
   "name": "python3"
  },
  "language_info": {
   "codemirror_mode": {
    "name": "ipython",
    "version": 3
   },
   "file_extension": ".py",
   "mimetype": "text/x-python",
   "name": "python",
   "nbconvert_exporter": "python",
   "pygments_lexer": "ipython3",
   "version": "3.8.8"
  }
 },
 "nbformat": 4,
 "nbformat_minor": 5
}
